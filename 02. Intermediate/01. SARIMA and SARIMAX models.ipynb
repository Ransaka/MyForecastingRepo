{
 "cells": [
  {
   "cell_type": "markdown",
   "metadata": {},
   "source": [
    "So far we have discussed upto ARIMA models, Now time to add **S** into the model, which stands for Seasonality.\n",
    "\n",
    "![ARIMA and Family](https://raw.githubusercontent.com/Ransaka/MyForecastingRepo/master/Images/SARIMA%20and%20family.png?token=GHSAT0AAAAAABT3I7UFPDW654V47FCGI2MMYTONO5Q)"
   ]
  },
  {
   "cell_type": "markdown",
   "metadata": {},
   "source": [
    "### Breafing about time series modeling using ARIMA"
   ]
  },
  {
   "cell_type": "markdown",
   "metadata": {},
   "source": [
    "Decompose the word ARIMA => AR ~ *i* ~ MA"
   ]
  },
  {
   "cell_type": "markdown",
   "metadata": {},
   "source": [
    "- AR(p)\n",
    "    - AR stands fore Autoregressive. In other word our time series coorelated with it's past values. Hence, we can predict the future based on some combination of past values. The term *p* defined the order of AR model.The order of an autoregression is the number of immediately preceding values in the series that are used to predict the value at the present time.\n"
   ]
  },
  {
   "cell_type": "markdown",
   "metadata": {},
   "source": [
    "with term *p* we can define our series(y) using following equation.\n",
    "\n",
    "$y_{t}$ = *k* + $w_{1}$*$y_{t-1}$ + $w_{2}$*$y_{t-2}$ + .... + $w_{p}$ $y_{t-p}$ + $\\epsilon_{t}$ ; *where* $w_{i}$ *is the weights of past values and* $\\epsilon_{t}$ *is white noice*\n",
    "\n",
    "Easiest way to determine order of AR model is, identifying the deferencing order that take original time series non-stationary to stationary. As an example, if we have a non-stationary time series and we need to convert into a stationary one, we can simply use deferencing method to do that. Say first order deferencing did the job, then we can follow AR(1) proceedure."
   ]
  },
  {
   "cell_type": "markdown",
   "metadata": {},
   "source": [
    "- MA(q)\n",
    "    - To determining order of MA model, first we need to indentyfy correlation of time series with it's past values. To do that we can use ACF plots.IN ACF plot, if we see significant coefficients, then we must check if they become abruptly non-significant after some lag q. If that is the case, then we know that we have a moving average process of order q. Otherwise, we must follow a different set of steps to discover the underlying process of our time series."
   ]
  },
  {
   "cell_type": "markdown",
   "metadata": {},
   "source": [
    "    "
   ]
  }
 ],
 "metadata": {
  "interpreter": {
   "hash": "d6a60467ee37edd93a004ea386bfb5e2f3f3819d3945d6c72c261130da48dbfe"
  },
  "kernelspec": {
   "display_name": "Python 3.9.7 ('base')",
   "language": "python",
   "name": "python3"
  },
  "language_info": {
   "codemirror_mode": {
    "name": "ipython",
    "version": 3
   },
   "file_extension": ".py",
   "mimetype": "text/x-python",
   "name": "python",
   "nbconvert_exporter": "python",
   "pygments_lexer": "ipython3",
   "version": "3.9.12"
  },
  "orig_nbformat": 4
 },
 "nbformat": 4,
 "nbformat_minor": 2
}
